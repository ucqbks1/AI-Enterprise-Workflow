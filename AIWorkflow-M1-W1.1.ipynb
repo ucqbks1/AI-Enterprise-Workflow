{
    "cells": [
        {
            "cell_type": "markdown",
            "metadata": {
                "collapsed": true
            },
            "source": "# Experiment - Snowfall"
        },
        {
            "cell_type": "code",
            "execution_count": 74,
            "metadata": {},
            "outputs": [],
            "source": "import os"
        },
        {
            "cell_type": "code",
            "execution_count": 75,
            "metadata": {},
            "outputs": [],
            "source": "path = os.getcwd()"
        },
        {
            "cell_type": "code",
            "execution_count": 76,
            "metadata": {},
            "outputs": [
                {
                    "data": {
                        "text/plain": "{<function posix.chdir(path)>,\n <function posix.chmod(path, mode, *, dir_fd=None, follow_symlinks=True)>,\n <function posix.chown(path, uid, gid, *, dir_fd=None, follow_symlinks=True)>,\n <function posix.execve(path, argv, env)>,\n <function posix.listdir(path=None)>,\n <function posix.pathconf(path, name)>,\n <function posix.stat(path, *, dir_fd=None, follow_symlinks=True)>,\n <function posix.statvfs(path)>,\n <function posix.truncate(path, length)>,\n <function posix.utime(path, times=None, *, ns=None, dir_fd=None, follow_symlinks=True)>}"
                    },
                    "execution_count": 76,
                    "metadata": {},
                    "output_type": "execute_result"
                }
            ],
            "source": "os.supports_fd"
        },
        {
            "cell_type": "code",
            "execution_count": 80,
            "metadata": {},
            "outputs": [],
            "source": "import pandas as pd"
        },
        {
            "cell_type": "code",
            "execution_count": 81,
            "metadata": {},
            "outputs": [],
            "source": "file_path = path +'/'+\"snowfall.csv\""
        },
        {
            "cell_type": "code",
            "execution_count": 98,
            "metadata": {},
            "outputs": [
                {
                    "data": {
                        "text/plain": "'/home/dsxuser/work/snowfall.csv'"
                    },
                    "execution_count": 98,
                    "metadata": {},
                    "output_type": "execute_result"
                }
            ],
            "source": "file_path"
        },
        {
            "cell_type": "code",
            "execution_count": 105,
            "metadata": {},
            "outputs": [
                {
                    "data": {
                        "text/html": "<div>\n<style scoped>\n    .dataframe tbody tr th:only-of-type {\n        vertical-align: middle;\n    }\n\n    .dataframe tbody tr th {\n        vertical-align: top;\n    }\n\n    .dataframe thead th {\n        text-align: right;\n    }\n</style>\n<table border=\"1\" class=\"dataframe\">\n  <thead>\n    <tr style=\"text-align: right;\">\n      <th></th>\n      <th>rank</th>\n      <th>location</th>\n      <th>snowfall</th>\n      <th>state</th>\n      <th>city</th>\n      <th>lat</th>\n      <th>long</th>\n      <th>elevation</th>\n    </tr>\n  </thead>\n  <tbody>\n    <tr>\n      <th>0</th>\n      <td>1</td>\n      <td>VALDEZ</td>\n      <td>316.8</td>\n      <td>AK</td>\n      <td>Valdez</td>\n      <td>61.129940</td>\n      <td>-146.349364</td>\n      <td>6.8</td>\n    </tr>\n    <tr>\n      <th>1</th>\n      <td>2</td>\n      <td>MT. WASHINGTON</td>\n      <td>260.0</td>\n      <td>NH</td>\n      <td>Mt. Washington</td>\n      <td>44.270460</td>\n      <td>-71.303531</td>\n      <td>1913.4</td>\n    </tr>\n    <tr>\n      <th>2</th>\n      <td>3</td>\n      <td>BLUE CANYON</td>\n      <td>240.3</td>\n      <td>CA</td>\n      <td>Blue Canyon</td>\n      <td>39.257275</td>\n      <td>-120.710825</td>\n      <td>1405.3</td>\n    </tr>\n    <tr>\n      <th>3</th>\n      <td>4</td>\n      <td>YAKUTAT</td>\n      <td>190.3</td>\n      <td>AK</td>\n      <td>Yakutat</td>\n      <td>59.572734</td>\n      <td>-139.578312</td>\n      <td>26.0</td>\n    </tr>\n    <tr>\n      <th>4</th>\n      <td>5</td>\n      <td>MARQUETTE</td>\n      <td>149.1</td>\n      <td>MI</td>\n      <td>Marquette</td>\n      <td>46.543491</td>\n      <td>-87.396433</td>\n      <td>NaN</td>\n    </tr>\n  </tbody>\n</table>\n</div>",
                        "text/plain": "   rank        location  snowfall state            city        lat  \\\n0     1          VALDEZ     316.8    AK          Valdez  61.129940   \n1     2  MT. WASHINGTON     260.0    NH  Mt. Washington  44.270460   \n2     3     BLUE CANYON     240.3    CA     Blue Canyon  39.257275   \n3     4         YAKUTAT     190.3    AK         Yakutat  59.572734   \n4     5       MARQUETTE     149.1    MI       Marquette  46.543491   \n\n         long  elevation  \n0 -146.349364        6.8  \n1  -71.303531     1913.4  \n2 -120.710825     1405.3  \n3 -139.578312       26.0  \n4  -87.396433        NaN  "
                    },
                    "execution_count": 105,
                    "metadata": {},
                    "output_type": "execute_result"
                }
            ],
            "source": "# The code was removed by Watson Studio for sharing."
        },
        {
            "cell_type": "code",
            "execution_count": 111,
            "metadata": {},
            "outputs": [
                {
                    "data": {
                        "text/plain": "<bound method DataFrame.info of      rank          location  snowfall state              city        lat  \\\n0       1            VALDEZ     316.8    AK            Valdez  61.129940   \n1       2    MT. WASHINGTON     260.0    NH    Mt. Washington  44.270460   \n2       3       BLUE CANYON     240.3    CA       Blue Canyon  39.257275   \n3       4           YAKUTAT     190.3    AK           Yakutat  59.572734   \n4       5         MARQUETTE     149.1    MI         Marquette  46.543491   \n5       6          SYRACUSE     119.3    NY          Syracuse  43.048122   \n6       7  SAULT STE. MARIE     116.7    MI  Sault Ste. Marie  46.490586   \n7       8         TALKEETNA     115.4    AK         Talkeetna  62.323831   \n8       9           CARIBOU     112.2    ME           Caribou  46.860557   \n9      10      MOUNT SHASTA     104.9    CA      Mount Shasta  41.409320   \n10     11            LANDER     101.1    WY            Lander  42.833075   \n11     12         FLAGSTAFF     100.9    AZ         Flagstaff  35.199458   \n12     13            JUNEAU      99.0    AK            Juneau  58.301950   \n13     14     SEXTON SUMMIT      97.8    OR     Sexton Summit        NaN   \n14     15          MUSKEGON      96.3    MI          Muskegon  43.234181   \n15     16         ROCHESTER      94.3    NY         Rochester  43.157285   \n16     17           BUFFALO      94.2    NY           Buffalo  42.886717   \n17     18           MCGRATH      93.5    AK           Mcgrath  62.956389   \n18     19              ERIE      92.6    PA             Erie.  42.129066   \n19     20           BETTLES      85.8    AK           Bettles  66.918889   \n20     21        BINGHAMTON      85.2    NY        Binghamton  42.096968   \n21     22            ALPENA      84.4    MI            Alpena  45.061679   \n22     23            DULUTH      81.5    MN            Duluth  46.772932   \n23     24        BURLINGTON      80.9    VT        Burlington  44.472399   \n24     25            KODIAK      80.3    AK            Kodiak  57.790000   \n25     26            ELKINS      77.1    WV            Elkins  38.925927   \n26     27            CASPER      76.6    WY            Casper  42.866632   \n27     28      GRAND RAPIDS      75.0    MI      Grand Rapids  42.963241   \n28     29     HOUGHTON LAKE      74.6    MI     Houghton Lake  44.314739   \n29     30         ANCHORAGE      72.8    AK         Anchorage  61.216313   \n..    ...               ...       ...   ...               ...        ...   \n218   219            TUCSON       1.2    AZ            Tucson  32.221892   \n219   220           AUGUSTA       1.2    GA           Augusta  33.470971   \n220   221          MERIDIAN       1.2    MS          Meridian  32.364310   \n221   222           JACKSON       1.0    MS           Jackson  32.410438   \n222   223            AUSTIN       1.0    TX            Austin  30.271129   \n223   224             MACON       0.9    GA             Macon  32.840695   \n224   225           DEL RIO       0.9    TX           Del Rio  29.362730   \n225   226     CHARLESTON AP       0.8    SC     Charleston Ap        NaN   \n226   227       SAN ANTONIO       0.7    TX       San Antonio  29.398600   \n227   228          COLUMBUS       0.5    GA          Columbus  32.460976   \n228   229            MOBILE       0.4    AL            Mobile  30.694357   \n229   230        MONTGOMERY       0.4    AL        Montgomery  32.366966   \n230   231          SAVANNAH       0.4    GA          Savannah  32.083541   \n231   232           HOUSTON       0.4    TX           Houston  29.758938   \n232   233      LAKE CHARLES       0.3    LA      Lake Charles  30.226595   \n233   234       PORT ARTHUR       0.3    TX       Port Arthur  29.898826   \n234   235            EUREKA       0.2    CA            Eureka  40.802071   \n235   236         PENSACOLA       0.2    FL         Pensacola  30.421309   \n236   237       BATON ROUGE       0.2    LA       Baton Rouge  30.450746   \n237   238       NEW ORLEANS       0.2    LA       New Orleans  29.949932   \n238   239         GALVESTON       0.2    TX         Galveston  29.299328   \n239   240            FRESNO       0.1    CA            Fresno  36.729529   \n240   241          VICTORIA       0.1    TX          Victoria  28.805267   \n241   242     SANTA BARBARA       0.0    CA     Santa Barbara  34.422132   \n242   243        FORT MYERS       0.0    FL        Fort Myers  26.640628   \n243   244          KEY WEST       0.0    FL          Key West  24.562557   \n244   245              HILO       0.0    HI              Hilo  19.707243   \n245   246          HONOLULU       0.0    HI          Honolulu  21.325079   \n246   247           KAHULUI       0.0    HI           Kahului  20.889410   \n247   248             LIHUE       0.0    HI             Lihue  21.981111   \n\n           long  elevation  \n0   -146.349364        6.8  \n1    -71.303531     1913.4  \n2   -120.710825     1405.3  \n3   -139.578312       26.0  \n4    -87.396433        NaN  \n5    -76.147424        NaN  \n6    -84.359269        NaN  \n7   -150.108882      106.2  \n8    -68.011968      136.0  \n9   -122.195009        NaN  \n10  -108.730702        NaN  \n11  -111.651426        NaN  \n12  -134.419734       10.4  \n13          NaN       10.4  \n14   -86.248392      187.2  \n15   -77.615214      152.0  \n16   -78.878392      183.4  \n17  -155.595833      101.0  \n18   -80.085242      198.7  \n19  -151.516111      191.7  \n20   -75.914341      257.8  \n21   -83.432753      179.5  \n22   -92.125122      283.9  \n23   -73.211494       52.2  \n24  -152.407222       14.1  \n25   -79.846655      587.1  \n26  -106.313081     1555.8  \n27   -85.667864      193.8  \n28   -84.764750      348.1  \n29  -149.894852       29.4  \n..          ...        ...  \n218 -110.926235      759.4  \n219  -81.974843       45.5  \n220  -88.703656      104.5  \n221  -90.162065      100.9  \n222  -97.743700      162.6  \n223  -83.632402      113.3  \n224 -100.896761      294.7  \n225         NaN      294.7  \n226  -98.389169      201.2  \n227  -84.987709       73.1  \n228  -88.043054        2.6  \n229  -86.300648       73.0  \n230  -81.099834        5.5  \n231  -95.367697       14.7  \n232  -93.217376        4.4  \n233  -93.928781       -0.1  \n234 -124.163673       14.6  \n235  -87.216915       16.8  \n236  -91.154551       14.3  \n237  -90.070116        1.7  \n238  -94.794588        2.6  \n239 -119.708861       95.4  \n240  -97.003598       28.6  \n241 -119.702667        NaN  \n242  -81.872308        NaN  \n243  -81.772437        NaN  \n244 -155.081635       24.3  \n245 -157.846644       45.1  \n246 -156.472712        NaN  \n247 -159.371111       67.4  \n\n[248 rows x 8 columns]>"
                    },
                    "execution_count": 111,
                    "metadata": {},
                    "output_type": "execute_result"
                }
            ],
            "source": "df.info"
        },
        {
            "cell_type": "code",
            "execution_count": 110,
            "metadata": {},
            "outputs": [
                {
                    "data": {
                        "text/plain": "Index(['rank', 'location', 'snowfall', 'state', 'city', 'lat', 'long',\n       'elevation'],\n      dtype='object')"
                    },
                    "execution_count": 110,
                    "metadata": {},
                    "output_type": "execute_result"
                }
            ],
            "source": "df.columns"
        },
        {
            "cell_type": "code",
            "execution_count": 132,
            "metadata": {},
            "outputs": [],
            "source": "mask = [True if s in ['CO', 'UT', 'VT'] else False for s in df['state'].values]"
        },
        {
            "cell_type": "code",
            "execution_count": 133,
            "metadata": {},
            "outputs": [],
            "source": "df1 = df[mask]"
        },
        {
            "cell_type": "code",
            "execution_count": 134,
            "metadata": {},
            "outputs": [
                {
                    "data": {
                        "text/plain": "(8, 8)"
                    },
                    "execution_count": 134,
                    "metadata": {},
                    "output_type": "execute_result"
                }
            ],
            "source": "df1.shape"
        },
        {
            "cell_type": "code",
            "execution_count": 135,
            "metadata": {},
            "outputs": [],
            "source": "pivot = df1.groupby(['state'])['snowfall'].describe()"
        },
        {
            "cell_type": "code",
            "execution_count": 136,
            "metadata": {},
            "outputs": [
                {
                    "data": {
                        "text/plain": "<bound method DataFrame.info of        count   mean        std   min     25%    50%     75%   max\nstate                                                            \nCO       5.0  37.76  13.672710  23.4  32.500  32.50  40.800  59.6\nUT       2.0  51.65   9.263099  45.1  48.375  51.65  54.925  58.2\nVT       1.0  80.90        NaN  80.9  80.900  80.90  80.900  80.9>"
                    },
                    "execution_count": 136,
                    "metadata": {},
                    "output_type": "execute_result"
                }
            ],
            "source": "pivot.info"
        },
        {
            "cell_type": "code",
            "execution_count": 137,
            "metadata": {},
            "outputs": [],
            "source": "df1_pivot = pd.DataFrame({'count': pivot['count'], 'avg_snowfall': pivot['mean'], 'max_snowfall': pivot['max']})"
        },
        {
            "cell_type": "code",
            "execution_count": 138,
            "metadata": {},
            "outputs": [
                {
                    "name": "stdout",
                    "output_type": "stream",
                    "text": "       count  avg_snowfall  max_snowfall\nstate                                   \nCO       5.0         37.76          59.6\nUT       2.0         51.65          58.2\nVT       1.0         80.90          80.9\n"
                }
            ],
            "source": "print(df1_pivot)"
        },
        {
            "cell_type": "code",
            "execution_count": null,
            "metadata": {},
            "outputs": [],
            "source": ""
        }
    ],
    "metadata": {
        "kernelspec": {
            "display_name": "Python 3.6",
            "language": "python",
            "name": "python3"
        },
        "language_info": {
            "codemirror_mode": {
                "name": "ipython",
                "version": 3
            },
            "file_extension": ".py",
            "mimetype": "text/x-python",
            "name": "python",
            "nbconvert_exporter": "python",
            "pygments_lexer": "ipython3",
            "version": "3.6.9"
        }
    },
    "nbformat": 4,
    "nbformat_minor": 1
}